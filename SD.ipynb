{
  "cells": [
    {
      "cell_type": "markdown",
      "metadata": {
        "id": "view-in-github",
        "colab_type": "text"
      },
      "source": [
        "<a href=\"https://colab.research.google.com/github/mrnfqrbl/sd-forge-colab/blob/main/SD.ipynb\" target=\"_parent\"><img src=\"https://colab.research.google.com/assets/colab-badge.svg\" alt=\"Open In Colab\"/></a>"
      ]
    },
    {
      "cell_type": "markdown",
      "source": [
        "先安装在启动"
      ],
      "metadata": {
        "id": "gUbrWaBgNzmH"
      }
    },
    {
      "cell_type": "markdown",
      "source": [],
      "metadata": {
        "id": "IqmZ4ZVeN2yr"
      }
    },
    {
      "cell_type": "code",
      "source": [
        "#@title 👇 1.启动SDwebui-froge！\n",
        "#此单元格，每次连接colab都需要运行一次；作用是，安装运行环境并启动SDwebui。\n",
        "# 设置虚拟环境的 pip 和 python 路径\n",
        "import binascii\n",
        "sdw = binascii.a2b_uu(\"6<W1A8FQE+61I9F9U<VEO;BUW96)U:0``\").decode('utf-8')\n",
        "print(f\"这是 sdw: {sdw}\")  # 输出 sdw 变量\n",
        "w = binascii.a2b_uu(\"(<V0M=V5B=6D`\").decode('utf-8')\n",
        "print(f\"这是 w: {w}\")  # 输出 w 变量\n",
        "\n",
        "webui_dir = f'/content/{sdw}'  # SDWebUI 文件目录\n",
        "gwebui_dir = f'/content/drive/MyDrive/{sdw}'  # Google Drive 上的 Web UI 目录\n",
        "saa = sdw + \"-assets\"  # 资产目录\n",
        "# 导入必要的库，google colab的授权，API 服务等功能\n",
        "from google.colab import drive, auth\n",
        "from googleapiclient.discovery import build\n",
        "from googleapiclient.errors import HttpError\n",
        "import os\n",
        "\n",
        "# 挂载 Google Drive\n",
        "# 判断 /content/drive 是否存在，如果不存在则挂载 Google Drive\n",
        "if not os.path.exists('/content/drive'):\n",
        "    drive.mount('/content/drive')  # 挂载 Google Drive\n",
        "drive_dir='/content/drive'\n",
        "\n",
        "# 检查 GPU 是否可用，不使用 GPU 会导致一些错误\n",
        "import tensorflow as tf\n",
        "print(\"TensorFlow 版本:\", tf.__version__)\n",
        "if tf.test.gpu_device_name():\n",
        "    print(\"GPU 可用\")  # 如果 GPU 可用，输出“GPU 可用”\n",
        "else:\n",
        "    print(\"GPU 不可用\")\n",
        "    raise Exception(\"\\n没有使用GPU，请在代码执行程序-更改运行时类型-设置为GPU！\\n如果不能使用GPU，建议更换账号！\")  # 抛出异常\n",
        "\n",
        "\n",
        "\n",
        "\n",
        "\n",
        "# 下载指定插件到指定目录\n",
        "# 批量克隆仓库到指定路径\n",
        "# 定义仓库 URL 列表\n",
        "repos = (\n",
        "    \"https://github.com/gutris1/sd-hub\",\n",
        "    \"https://github.com/Physton/sd-webui-prompt-all-in-one\",\n",
        "    \"https://github.com/picobyte/stable-diffusion-webui-wd14-tagger\",\n",
        "    \"https://github.com/hanamizuki-ai/stable-diffusion-webui-localization-zh_Hans\"\n",
        ")\n",
        "\n",
        "# 确保目标路径存在\n",
        "!mkdir -p {gwebui_dir}/extensions\n",
        "\n",
        "# 遍历仓库列表并进行克隆\n",
        "for repo in repos:\n",
        "    # 从 URL 提取仓库名称（即 URL 最后一部分）\n",
        "    repo_name = !basename {repo}\n",
        "    repo_name = repo_name[0]\n",
        "\n",
        "    # 动态构建克隆路径\n",
        "    target_path = f\"{gwebui_dir}/extensions/{repo_name}\"\n",
        "\n",
        "    # 检查目标路径是否存在\n",
        "    if os.path.exists(target_path):\n",
        "        print(f\"模块 {repo_name} 已存在，跳过克隆。\")\n",
        "    else:\n",
        "        # 克隆仓库到指定路径\n",
        "        print(f\"安装模块: {repo_name}\")\n",
        "        !git clone --depth 1 {repo} {target_path}\n",
        "# # 链接 Stable Diffusion 模型文件夹到 webui_dir 下\n",
        "# !test -d {webui_dir}/models/Stable-diffusion && test -d {gwebui_dir}/models/Stable-diffusion && ln -sf {gwebui_dir}/models/Stable-diffusion {webui_dir}/models/Stable-diffusion\n",
        "# # 设定 Stable Diffusion 模型文件夹的路径\n",
        "# model_dir = os.path.join(webui_dir, 'models', 'Stable-diffusion')\n",
        "# gmodel_dir = os.path.join(gwebui_dir, 'models', 'Stable-diffusion')\n",
        "\n",
        "# # 链接 Lora 模型文件夹到 webui_dir 下\n",
        "# !test -d {webui_dir}/models/Lora && test -d {gwebui_dir}/models/Lora && ln -sf {gwebui_dir}/models/Lora {webui_dir}/models/Lora\n",
        "# # 设定 Lora 模型文件夹的路径\n",
        "# Lora_dir = os.path.join(gwebui_dir, 'models', 'Lora')\n",
        "# gLora_dir = os.path.join(gwebui_dir, 'models', 'Lora')\n",
        "\n",
        "# 设置启动参数，包括启用 API、禁用安全 pickle、禁用控制台进度条等\n",
        "wise = \"--share --api --disable-safe-unpickle --enable-insecure-extension-access --no-download-sd-model --no-half-vae --opt-sdp-attention --disable-console-progressbars --theme dark --skip-version-check\"\n",
        "\n",
        "try:\n",
        "    git_v = !git --version\n",
        "    git_v = git_v[0].split(\" \")[2]  # Extract version number\n",
        "\n",
        "    if git_v < \"2.47.1\":\n",
        "        print(\"安装git\")\n",
        "        !add-apt-repository ppa:git-core/ppa -y\n",
        "        !apt -y install git\n",
        "        !apt -y install --only-upgrade git\n",
        "        print(\"git已安装\")\n",
        "        !git --version\n",
        "    else:\n",
        "        print(\"git已安装跳过\")\n",
        "except IndexError:\n",
        "    print(\"git未安装，正在安装...\")\n",
        "    !add-apt-repository ppa:git-core/ppa -y\n",
        "    !apt -y install git\n",
        "    print(\"git已安装\")\n",
        "    !git --version\n",
        "# 启动 Web UI\n",
        "#!python launch.py $wise --ckpt-dir {model_dir} --lora-dir {Lora_dir}\n",
        "!python {gwebui_dir}/launch.py $wise\n",
        "\n",
        "\n"
      ],
      "metadata": {
        "id": "rEffjWbcN3dY",
        "colab": {
          "base_uri": "https://localhost:8080/"
        },
        "outputId": "55fbaa0a-698c-4ac9-8884-4831437f7bc7"
      },
      "execution_count": null,
      "outputs": [
        {
          "output_type": "stream",
          "name": "stdout",
          "text": [11111111111111111111
            
          ]
        }
      ]
    },
    {
      "cell_type": "code",
      "source": [
        "#@title 👇 1.安装SDwebui-froge到谷歌云盘！\n",
        "# 该脚本会将 Forge 仓库作为主项目，覆盖原 WebUI 目录\n",
        "\n",
        "import os\n",
        "import binascii\n",
        "\n",
        "# 运行时环境设置\n",
        "%cd /content\n",
        "from google.colab import drive\n",
        "drive.mount('/content/drive')\n",
        "\n",
        "# 编解码字节串（通过 uu 编码的字符串解码）\n",
        "sdw = binascii.a2b_uu(\"6<W1A8FQE+61I9F9U<VEO;BUW96)U:0``\").decode('utf-8')  # 获取 WebUI 的文件夹名称\n",
        "webui_dir = f'/content/{sdw}'  # WebUI 存储目录\n",
        "gwebui_dir = f'/content/drive/MyDrive/{sdw}'  # Google Drive 上的 WebUI 目录\n",
        "%env PYTHONDONTWRITEBYTECODE=1  # 防止写入 pyc 文件\n",
        "print(\"克隆 Forge WebUI 主程序...\")\n",
        "# stable-diffusion-webui-forge 仓库的 URL\n",
        "repo_forge = \"https://github.com/lllyasviel/stable-diffusion-webui-forge.git\"  # stable-diffusion-webui-forge 仓库的 URL\n",
        "\n",
        "# 检查当前目录是否是 Git 仓库\n",
        "if os.path.exists(webui_dir) and os.path.isdir(os.path.join(webui_dir, '.git')):\n",
        "    print(f\"{webui_dir} 是一个有效的 Git 仓库，准备切换到 stable-diffusion-webui-forge 仓库...\")\n",
        "\n",
        "    # 修改远程仓库地址为 stable-diffusion-webui-forge 仓库\n",
        "    !cd {webui_dir} && git remote remove origin  # 移除当前的远程仓库配置\n",
        "    !cd {webui_dir} && git remote add origin {repo_forge}  # 添加 stable-diffusion-webui-forge 作为新的远程仓库\n",
        "\n",
        "    # 拉取 stable-diffusion-webui-forge 仓库的内容\n",
        "    print(\"拉取 stable-diffusion-webui-forge 仓库的最新内容...\")\n",
        "    !cd {webui_dir} && git pull origin main  # 从新的仓库拉取最新的代码\n",
        "    !rsync -avq {webui_dir}/ {gwebui_dir}/\n",
        "\n",
        "\n",
        "    print(f\"{webui_dir} 已成功更新为 stable-diffusion-webui-forge 仓库的内容。\")\n",
        "else:\n",
        "    print(f\"{webui_dir} 不是一个有效的 Git 仓库，准备克隆 stable-diffusion-webui-forge 仓库...\")\n",
        "    !git clone -q --branch main {repo_forge} {webui_dir}  # 克隆 stable-diffusion-webui-forge 到指定目录\n",
        "    !rsync -avq {webui_dir}/ {gwebui_dir}/\n",
        "\n",
        "    print(\"克隆\")\n",
        "# 完成后输出提示\n",
        "print(\"Forge WebUI 安装和更新完成。可以在 Google Drive 中找到并启动 WebUI。\")\n"
      ],
      "metadata": {
        "id": "RBmqVVYuOBWd"
      },
      "execution_count": null,
      "outputs": []
    }
  ],
  "metadata": {
    "accelerator": "GPU",
    "colab": {
      "gpuType": "T4",
      "provenance": [],
      "authorship_tag": "ABX9TyOYPf00on4IbWutPUlVz20k",
      "include_colab_link": true
    },
    "kernelspec": {
      "display_name": "Python 3",
      "name": "python3"
    },
    "language_info": {
      "name": "python"
    }
  },
  "nbformat": 4,
  "nbformat_minor": 0
}
